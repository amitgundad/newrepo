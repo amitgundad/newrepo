{
  "nbformat": 4,
  "nbformat_minor": 0,
  "metadata": {
    "colab": {
      "name": "1. Working with Big Data pySpark.ipynb",
      "provenance": [],
      "collapsed_sections": [],
      "include_colab_link": true
    },
    "kernelspec": {
      "display_name": "Python 3",
      "language": "python",
      "name": "python3"
    },
    "language_info": {
      "codemirror_mode": {
        "name": "ipython",
        "version": 3
      },
      "file_extension": ".py",
      "mimetype": "text/x-python",
      "name": "python",
      "nbconvert_exporter": "python",
      "pygments_lexer": "ipython3",
      "version": "3.6.9"
    }
  },
  "cells": [
    {
      "cell_type": "markdown",
      "metadata": {
        "id": "view-in-github",
        "colab_type": "text"
      },
      "source": [
        "<a href=\"https://colab.research.google.com/github/amitgundad/newrepo/blob/master/1_Working_with_Big_Data_pySpark.ipynb\" target=\"_parent\"><img src=\"https://colab.research.google.com/assets/colab-badge.svg\" alt=\"Open In Colab\"/></a>"
      ]
    },
    {
      "cell_type": "markdown",
      "metadata": {
        "id": "fF7880IdeNqc"
      },
      "source": [
        "Install Spark, download datasets, create final dataframe."
      ]
    },
    {
      "cell_type": "code",
      "metadata": {
        "id": "c1VovUiDZ4kA"
      },
      "source": [
        "!apt-get install openjdk-8-jdk-headless -qq > /dev/null\n",
        "!wget -q https://downloads.apache.org/spark/spark-2.4.8/spark-2.4.8-bin-hadoop2.6.tgz\n",
        "!tar xf spark-2.4.8-bin-hadoop2.6.tgz\n",
        "!pip install -q findspark"
      ],
      "execution_count": null,
      "outputs": []
    },
    {
      "cell_type": "code",
      "metadata": {
        "id": "suFqUNKDaFeo"
      },
      "source": [
        "import os\n",
        "os.environ[\"JAVA_HOME\"] = \"/usr/lib/jvm/java-8-openjdk-amd64\"\n",
        "os.environ[\"SPARK_HOME\"] = \"/content/spark-2.4.8-bin-hadoop2.6\"\n",
        "import findspark\n",
        "findspark.init()\n",
        "from google.colab import files\n",
        "from pyspark.sql import SparkSession, Window\n",
        "from pyspark.sql.functions import isnan, when, count, col, lit, trim, avg, ceil\n",
        "from pyspark.sql.types import StringType\n",
        "import matplotlib.pyplot as plt\n",
        "import pandas as pd\n",
        "import seaborn as sns"
      ],
      "execution_count": null,
      "outputs": []
    },
    {
      "cell_type": "code",
      "metadata": {
        "colab": {
          "base_uri": "https://localhost:8080/"
        },
        "id": "2SfpwheFZDUe",
        "outputId": "30d7c0d1-46ab-4736-9aa3-507379d167ab"
      },
      "source": [
        "!wget https://s3.amazonaws.com/drivendata/data/7/public/4910797b-ee55-40a7-8668-10efd5c1b960.csv -O features.csv\n",
        "!wget https://s3.amazonaws.com/drivendata/data/7/public/0bf8bc6e-30d0-4c50-956a-603fc693d966.csv -O labels.csv"
      ],
      "execution_count": null,
      "outputs": [
        {
          "output_type": "stream",
          "name": "stdout",
          "text": [
            "--2021-12-06 11:37:47--  https://s3.amazonaws.com/drivendata/data/7/public/4910797b-ee55-40a7-8668-10efd5c1b960.csv\n",
            "Resolving s3.amazonaws.com (s3.amazonaws.com)... 52.217.165.40\n",
            "Connecting to s3.amazonaws.com (s3.amazonaws.com)|52.217.165.40|:443... connected.\n",
            "HTTP request sent, awaiting response... 200 OK\n",
            "Length: 20069199 (19M) [text/csv]\n",
            "Saving to: ‘features.csv’\n",
            "\n",
            "features.csv        100%[===================>]  19.14M  7.02MB/s    in 2.7s    \n",
            "\n",
            "2021-12-06 11:37:51 (7.02 MB/s) - ‘features.csv’ saved [20069199/20069199]\n",
            "\n",
            "--2021-12-06 11:37:51--  https://s3.amazonaws.com/drivendata/data/7/public/0bf8bc6e-30d0-4c50-956a-603fc693d966.csv\n",
            "Resolving s3.amazonaws.com (s3.amazonaws.com)... 52.217.4.94\n",
            "Connecting to s3.amazonaws.com (s3.amazonaws.com)|52.217.4.94|:443... connected.\n",
            "HTTP request sent, awaiting response... 200 OK\n",
            "Length: 1148327 (1.1M) [text/csv]\n",
            "Saving to: ‘labels.csv’\n",
            "\n",
            "labels.csv          100%[===================>]   1.09M  1.01MB/s    in 1.1s    \n",
            "\n",
            "2021-12-06 11:37:53 (1.01 MB/s) - ‘labels.csv’ saved [1148327/1148327]\n",
            "\n"
          ]
        }
      ]
    },
    {
      "cell_type": "code",
      "metadata": {
        "colab": {
          "base_uri": "https://localhost:8080/"
        },
        "id": "lHYWxV7aZN3K",
        "outputId": "5c32bafe-f926-4693-df76-ca1e6f6cd2d5"
      },
      "source": [
        "!ls"
      ],
      "execution_count": null,
      "outputs": [
        {
          "output_type": "stream",
          "name": "stdout",
          "text": [
            "features.csv  sample_data\t\t spark-2.4.8-bin-hadoop2.6.tgz\n",
            "labels.csv    spark-2.4.8-bin-hadoop2.6  spark-2.4.8-bin-hadoop2.6.tgz.1\n"
          ]
        }
      ]
    },
    {
      "cell_type": "code",
      "metadata": {
        "id": "osbsUikPadRq"
      },
      "source": [
        "sc = SparkSession.builder.master(\"local[*]\").getOrCreate()"
      ],
      "execution_count": null,
      "outputs": []
    },
    {
      "cell_type": "code",
      "metadata": {
        "id": "gLQBjPaxcC3B"
      },
      "source": [
        "feature = sc.read.csv(\"features.csv\", inferSchema=True, header=True)\n",
        "label = sc.read.csv(\"labels.csv\", inferSchema=True, header=True)"
      ],
      "execution_count": null,
      "outputs": []
    },
    {
      "cell_type": "code",
      "metadata": {
        "colab": {
          "base_uri": "https://localhost:8080/"
        },
        "id": "MNuh106fc2QD",
        "outputId": "69e41597-64de-4f6b-f4f0-c43316ba107b"
      },
      "source": [
        "print(feature.count())\n",
        "print(label.count())\n",
        "print(feature.columns)\n",
        "print(label.columns)"
      ],
      "execution_count": null,
      "outputs": [
        {
          "output_type": "stream",
          "name": "stdout",
          "text": [
            "59400\n",
            "59400\n",
            "['id', 'amount_tsh', 'date_recorded', 'funder', 'gps_height', 'installer', 'longitude', 'latitude', 'wpt_name', 'num_private', 'basin', 'subvillage', 'region', 'region_code', 'district_code', 'lga', 'ward', 'population', 'public_meeting', 'recorded_by', 'scheme_management', 'scheme_name', 'permit', 'construction_year', 'extraction_type', 'extraction_type_group', 'extraction_type_class', 'management', 'management_group', 'payment', 'payment_type', 'water_quality', 'quality_group', 'quantity', 'quantity_group', 'source', 'source_type', 'source_class', 'waterpoint_type', 'waterpoint_type_group']\n",
            "['id', 'status_group']\n"
          ]
        }
      ]
    },
    {
      "cell_type": "code",
      "metadata": {
        "colab": {
          "base_uri": "https://localhost:8080/"
        },
        "id": "rIJrNHJUcPSf",
        "outputId": "d87d4445-b494-4967-b523-78541b1cb9e0"
      },
      "source": [
        "data = feature.join(label, on=(\"id\"))\n",
        "print(data.count())\n",
        "print(data.columns)"
      ],
      "execution_count": null,
      "outputs": [
        {
          "output_type": "stream",
          "name": "stdout",
          "text": [
            "59400\n",
            "['id', 'amount_tsh', 'date_recorded', 'funder', 'gps_height', 'installer', 'longitude', 'latitude', 'wpt_name', 'num_private', 'basin', 'subvillage', 'region', 'region_code', 'district_code', 'lga', 'ward', 'population', 'public_meeting', 'recorded_by', 'scheme_management', 'scheme_name', 'permit', 'construction_year', 'extraction_type', 'extraction_type_group', 'extraction_type_class', 'management', 'management_group', 'payment', 'payment_type', 'water_quality', 'quality_group', 'quantity', 'quantity_group', 'source', 'source_type', 'source_class', 'waterpoint_type', 'waterpoint_type_group', 'status_group']\n"
          ]
        }
      ]
    },
    {
      "cell_type": "markdown",
      "metadata": {
        "id": "hnsaioREeIOJ"
      },
      "source": [
        "Change column type, drop duplicated rows, remove whitespacs. "
      ]
    },
    {
      "cell_type": "code",
      "metadata": {
        "colab": {
          "base_uri": "https://localhost:8080/"
        },
        "id": "2XcgZ9FT7f-G",
        "outputId": "9e1a9456-341f-4352-b7c9-6cd35c016ecc"
      },
      "source": [
        "data.printSchema()\n",
        "print(data.show(10))"
      ],
      "execution_count": null,
      "outputs": [
        {
          "output_type": "stream",
          "name": "stdout",
          "text": [
            "root\n",
            " |-- id: integer (nullable = true)\n",
            " |-- amount_tsh: double (nullable = true)\n",
            " |-- date_recorded: timestamp (nullable = true)\n",
            " |-- funder: string (nullable = true)\n",
            " |-- gps_height: integer (nullable = true)\n",
            " |-- installer: string (nullable = true)\n",
            " |-- longitude: double (nullable = true)\n",
            " |-- latitude: double (nullable = true)\n",
            " |-- wpt_name: string (nullable = true)\n",
            " |-- num_private: integer (nullable = true)\n",
            " |-- basin: string (nullable = true)\n",
            " |-- subvillage: string (nullable = true)\n",
            " |-- region: string (nullable = true)\n",
            " |-- region_code: string (nullable = true)\n",
            " |-- district_code: string (nullable = true)\n",
            " |-- lga: string (nullable = true)\n",
            " |-- ward: string (nullable = true)\n",
            " |-- population: integer (nullable = true)\n",
            " |-- public_meeting: boolean (nullable = true)\n",
            " |-- scheme_management: string (nullable = true)\n",
            " |-- permit: boolean (nullable = true)\n",
            " |-- construction_year: integer (nullable = true)\n",
            " |-- extraction_type: string (nullable = true)\n",
            " |-- extraction_type_group: string (nullable = true)\n",
            " |-- extraction_type_class: string (nullable = true)\n",
            " |-- management: string (nullable = true)\n",
            " |-- management_group: string (nullable = true)\n",
            " |-- payment: string (nullable = true)\n",
            " |-- payment_type: string (nullable = true)\n",
            " |-- water_quality: string (nullable = true)\n",
            " |-- quality_group: string (nullable = true)\n",
            " |-- quantity: string (nullable = true)\n",
            " |-- quantity_group: string (nullable = true)\n",
            " |-- source: string (nullable = true)\n",
            " |-- source_type: string (nullable = true)\n",
            " |-- source_class: string (nullable = true)\n",
            " |-- waterpoint_type: string (nullable = true)\n",
            " |-- waterpoint_type_group: string (nullable = true)\n",
            " |-- status_group: string (nullable = true)\n",
            "\n",
            "+----+----------+-------------------+------------+----------+---------+------------------+------------+--------------------+-----------+--------------------+----------------+-----------+-----------+-------------+------------+------------------+----------+--------------+-----------------+------+-----------------+---------------+---------------------+---------------------+-----------+----------------+--------------------+------------+-------------+-------------+------------+--------------+--------------------+--------------------+------------+--------------------+---------------------+--------------------+\n",
            "|  id|amount_tsh|      date_recorded|      funder|gps_height|installer|         longitude|    latitude|            wpt_name|num_private|               basin|      subvillage|     region|region_code|district_code|         lga|              ward|population|public_meeting|scheme_management|permit|construction_year|extraction_type|extraction_type_group|extraction_type_class| management|management_group|             payment|payment_type|water_quality|quality_group|    quantity|quantity_group|              source|         source_type|source_class|     waterpoint_type|waterpoint_type_group|        status_group|\n",
            "+----+----------+-------------------+------------+----------+---------+------------------+------------+--------------------+-----------+--------------------+----------------+-----------+-----------+-------------+------------+------------------+----------+--------------+-----------------+------+-----------------+---------------+---------------------+---------------------+-----------+----------------+--------------------+------------+-------------+-------------+------------+--------------+--------------------+--------------------+------------+--------------------+---------------------+--------------------+\n",
            "| 148|       0.0|2013-01-24 00:00:00|      Others|       283|   Others|       39.12479531| -9.90253564|              Matuli|          0|Ruvuma / Southern...|          Temeke|      Lindi|         80|           53|     Ruangwa|           Mandawa|      1650|          true|              WUA|  true|             1975|        gravity|              gravity|              gravity|        wua|      user-group|           never pay|   never pay|         soft|         good|     unknown|       unknown|              spring|              spring| groundwater|communal standpip...|   communal standpipe|      non functional|\n",
            "| 463|     220.0|2011-02-25 00:00:00|      Danida|      1710|   Others|35.382369700000005| -7.95123183|                none|          0|              Rufiji|          Msombe|     Iringa|         11|            1|Iringa Rural|            Maboga|       210|          true|              VWC|  true|             1983|        gravity|              gravity|              gravity|        vwc|      user-group|        pay annually|    annually|         soft|         good|      enough|        enough|              spring|              spring| groundwater|  communal standpipe|   communal standpipe|          functional|\n",
            "| 471|       0.0|2011-04-14 00:00:00|        null|         0|     null|       33.85041604|   -8.830581|      Kwa Mzee Allan|          0|              Rufiji|        Kanisani|      Mbeya|         12|            7|     Mbarali|           Igurusi|         0|          true|              WUA|  true|                0|        gravity|              gravity|              gravity|        wua|      user-group|         pay monthly|     monthly|         soft|         good|insufficient|  insufficient|               river|          river/lake|     surface|  communal standpipe|   communal standpipe|          functional|\n",
            "|1088|       0.0|2011-07-24 00:00:00|      Others|         0|      DWE|       30.85976415| -1.47894139|           Kwaedward|          0|       Lake Victoria|       Bigenyi A|     Kagera|         18|            1|     Karagwe|           Nkwenda|         0|          true|              VWC|  true|                0|        gravity|              gravity|              gravity|        vwc|      user-group|           never pay|   never pay|         soft|         good|         dry|           dry|              spring|              spring| groundwater|  communal standpipe|   communal standpipe|          functional|\n",
            "|1342|       0.0|2012-10-22 00:00:00|World Vision|         0|   Others|       32.87190305|  -4.1340646|          Kwa Mdewha|          0|     Lake Tanganyika|            Sima|     Tabora|         14|            1|       Nzega|           Ikindwa|         0|          true|              WUG| false|                0|          other|                other|                other|        wug|      user-group|pay when scheme f...|  on failure|         soft|         good|      enough|        enough|        shallow well|        shallow well| groundwater|               other|                other|      non functional|\n",
            "|1645|       0.0|2013-03-13 00:00:00|World Vision|      1340|   Others|       37.92052363| -4.17607628|         Kwa Fadhili|          0|             Pangani|      Kwanadenge|Kilimanjaro|          3|            3|        Same|            Mshewa|       120|          true|  Water authority|  true|             1995|        gravity|              gravity|              gravity|        vwc|      user-group|           never pay|   never pay|         soft|         good|      enough|        enough|               river|          river/lake|     surface|  communal standpipe|   communal standpipe|functional needs ...|\n",
            "|1829|       0.0|2013-03-22 00:00:00|      Others|      1167|   Others|       36.97374778| -3.31678915|Mareu Primary School|          0|             Pangani|      Mareu Kati|     Arusha|          2|            7|        Meru|          King'ori|       390|          true|              WUA| false|             2012|        gravity|              gravity|              gravity|        wua|      user-group|             unknown|     unknown|         soft|         good|      enough|        enough|rainwater harvesting|rainwater harvesting|     surface|  communal standpipe|   communal standpipe|          functional|\n",
            "|1959|       0.0|2011-12-03 00:00:00|      Others|      2178|   Others|       34.51323725| -9.29864752|Ofisi Ya Kijiji I...|          0|          Lake Nyasa|         Mlimani|     Iringa|         11|            4|      Njombe|             Igosi|        40|          true|              VWC|  true|             1998|        gravity|              gravity|              gravity|        vwc|      user-group|        pay annually|    annually|         soft|         good|insufficient|  insufficient|              spring|              spring| groundwater|  communal standpipe|   communal standpipe|          functional|\n",
            "|2122|       0.0|2013-03-01 00:00:00|      Danida|       832|   DANIDA|       36.04780379|-10.69664046|             Shuleni|          0|Ruvuma / Southern...|       Kikwajuni|     Ruvuma|         10|            5|    Namtumbo|         Namabengo|       560|          true|              VWC|  true|             1982|        gravity|              gravity|              gravity| parastatal|      parastatal|pay when scheme f...|  on failure|         soft|         good|    seasonal|      seasonal|               river|          river/lake|     surface|  communal standpipe|   communal standpipe|          functional|\n",
            "|2366|       6.0|2013-09-03 00:00:00|      Others|       765|      DWE|       37.49807609| -3.40287544|   Kwa Halima Bakari|          0|             Pangani|Barabar Ya Chini|Kilimanjaro|          3|            4| Moshi Rural|Kirua Vunjo Kusini|        20|          true|      Water Board|  true|             2008|        gravity|              gravity|              gravity|water board|      user-group|      pay per bucket|  per bucket|         soft|         good|      enough|        enough|              spring|              spring| groundwater|  communal standpipe|   communal standpipe|          functional|\n",
            "+----+----------+-------------------+------------+----------+---------+------------------+------------+--------------------+-----------+--------------------+----------------+-----------+-----------+-------------+------------+------------------+----------+--------------+-----------------+------+-----------------+---------------+---------------------+---------------------+-----------+----------------+--------------------+------------+-------------+-------------+------------+--------------+--------------------+--------------------+------------+--------------------+---------------------+--------------------+\n",
            "only showing top 10 rows\n",
            "\n",
            "None\n"
          ]
        }
      ]
    },
    {
      "cell_type": "code",
      "metadata": {
        "colab": {
          "base_uri": "https://localhost:8080/"
        },
        "id": "Hiz2yMf27fla",
        "outputId": "c36b720a-15f1-45f0-9497-9392d5106cab"
      },
      "source": [
        "data = data.withColumn('region_code', col('region_code').cast(StringType())).withColumn('district_code',col('district_code').cast(StringType()))\n",
        "data.count"
      ],
      "execution_count": null,
      "outputs": [
        {
          "output_type": "execute_result",
          "data": {
            "text/plain": [
              "<bound method DataFrame.count of DataFrame[id: int, amount_tsh: double, date_recorded: timestamp, funder: string, gps_height: int, installer: string, longitude: double, latitude: double, wpt_name: string, num_private: int, basin: string, subvillage: string, region: string, region_code: string, district_code: string, lga: string, ward: string, population: int, public_meeting: boolean, recorded_by: string, scheme_management: string, scheme_name: string, permit: boolean, construction_year: int, extraction_type: string, extraction_type_group: string, extraction_type_class: string, management: string, management_group: string, payment: string, payment_type: string, water_quality: string, quality_group: string, quantity: string, quantity_group: string, source: string, source_type: string, source_class: string, waterpoint_type: string, waterpoint_type_group: string, status_group: string]>"
            ]
          },
          "metadata": {},
          "execution_count": 13
        }
      ]
    },
    {
      "cell_type": "code",
      "metadata": {
        "colab": {
          "base_uri": "https://localhost:8080/"
        },
        "id": "qLDXbAsx_53W",
        "outputId": "41cfd7b8-8954-42e7-c1d7-fc552ddcd6bd"
      },
      "source": [
        "data.printSchema()\n"
      ],
      "execution_count": null,
      "outputs": [
        {
          "output_type": "stream",
          "name": "stdout",
          "text": [
            "root\n",
            " |-- id: integer (nullable = true)\n",
            " |-- amount_tsh: double (nullable = true)\n",
            " |-- date_recorded: timestamp (nullable = true)\n",
            " |-- funder: string (nullable = true)\n",
            " |-- gps_height: integer (nullable = true)\n",
            " |-- installer: string (nullable = true)\n",
            " |-- longitude: double (nullable = true)\n",
            " |-- latitude: double (nullable = true)\n",
            " |-- wpt_name: string (nullable = true)\n",
            " |-- num_private: integer (nullable = true)\n",
            " |-- basin: string (nullable = true)\n",
            " |-- subvillage: string (nullable = true)\n",
            " |-- region: string (nullable = true)\n",
            " |-- region_code: string (nullable = true)\n",
            " |-- district_code: string (nullable = true)\n",
            " |-- lga: string (nullable = true)\n",
            " |-- ward: string (nullable = true)\n",
            " |-- population: integer (nullable = true)\n",
            " |-- public_meeting: boolean (nullable = true)\n",
            " |-- recorded_by: string (nullable = true)\n",
            " |-- scheme_management: string (nullable = true)\n",
            " |-- scheme_name: string (nullable = true)\n",
            " |-- permit: boolean (nullable = true)\n",
            " |-- construction_year: integer (nullable = true)\n",
            " |-- extraction_type: string (nullable = true)\n",
            " |-- extraction_type_group: string (nullable = true)\n",
            " |-- extraction_type_class: string (nullable = true)\n",
            " |-- management: string (nullable = true)\n",
            " |-- management_group: string (nullable = true)\n",
            " |-- payment: string (nullable = true)\n",
            " |-- payment_type: string (nullable = true)\n",
            " |-- water_quality: string (nullable = true)\n",
            " |-- quality_group: string (nullable = true)\n",
            " |-- quantity: string (nullable = true)\n",
            " |-- quantity_group: string (nullable = true)\n",
            " |-- source: string (nullable = true)\n",
            " |-- source_type: string (nullable = true)\n",
            " |-- source_class: string (nullable = true)\n",
            " |-- waterpoint_type: string (nullable = true)\n",
            " |-- waterpoint_type_group: string (nullable = true)\n",
            " |-- status_group: string (nullable = true)\n",
            "\n"
          ]
        }
      ]
    },
    {
      "cell_type": "code",
      "metadata": {
        "colab": {
          "base_uri": "https://localhost:8080/"
        },
        "id": "L5dRfsxh7fMn",
        "outputId": "4eb5fd7c-07c9-49a1-c80b-0d859c6ab141"
      },
      "source": [
        "data = data.dropDuplicates([\"id\"])\n",
        "data.count()"
      ],
      "execution_count": null,
      "outputs": [
        {
          "output_type": "execute_result",
          "data": {
            "text/plain": [
              "59400"
            ]
          },
          "metadata": {},
          "execution_count": 15
        }
      ]
    },
    {
      "cell_type": "code",
      "metadata": {
        "id": "EcfYuB-ru9G9"
      },
      "source": [
        "str_cols = [item[0] for item in data.dtypes if item[1].startswith('string')]\n",
        "for cols in str_cols:\n",
        "  data = data.withColumn(cols, trim(data[cols]))"
      ],
      "execution_count": null,
      "outputs": []
    },
    {
      "cell_type": "markdown",
      "metadata": {
        "id": "xN4Y2cJp7s5z"
      },
      "source": [
        "Remove columns with null values more than a threshold. "
      ]
    },
    {
      "cell_type": "code",
      "metadata": {
        "id": "SGdEdHici0Zq"
      },
      "source": [
        "agg_row = data.select([(count(when(isnan(c) | col(c).isNull(),c))/data.count()).alias(c) for c in data.columns if c not in {'date_recorded','public_meeting','permit',}]).collect()"
      ],
      "execution_count": null,
      "outputs": []
    },
    {
      "cell_type": "code",
      "metadata": {
        "id": "Q135E7kjqJqk"
      },
      "source": [
        "agg_dict_list = [row.asDict() for row in agg_row]\n",
        "agg_dict = agg_dict_list[0]"
      ],
      "execution_count": null,
      "outputs": []
    },
    {
      "cell_type": "code",
      "metadata": {
        "colab": {
          "base_uri": "https://localhost:8080/"
        },
        "id": "hoRiuCgbs4Jm",
        "outputId": "b1757b34-1a95-4c5d-e99c-83d0240394fd"
      },
      "source": [
        "col_null = list({i for i in agg_dict if agg_dict[i] > 0.4})\n",
        "print(agg_dict)\n",
        "print(col_null)\n",
        "data = data.drop(*col_null)"
      ],
      "execution_count": null,
      "outputs": [
        {
          "output_type": "stream",
          "name": "stdout",
          "text": [
            "{'id': 0.0, 'amount_tsh': 0.0, 'funder': 0.0611952861952862, 'gps_height': 0.0, 'installer': 0.061531986531986535, 'longitude': 0.0, 'latitude': 0.0, 'wpt_name': 0.0, 'num_private': 0.0, 'basin': 0.0, 'subvillage': 0.0062457912457912455, 'region': 0.0, 'region_code': 0.0, 'district_code': 0.0, 'lga': 0.0, 'ward': 0.0, 'population': 0.0, 'recorded_by': 0.0, 'scheme_management': 0.06526936026936027, 'scheme_name': 0.4741750841750842, 'construction_year': 0.0, 'extraction_type': 0.0, 'extraction_type_group': 0.0, 'extraction_type_class': 0.0, 'management': 0.0, 'management_group': 0.0, 'payment': 0.0, 'payment_type': 0.0, 'water_quality': 0.0, 'quality_group': 0.0, 'quantity': 0.0, 'quantity_group': 0.0, 'source': 0.0, 'source_type': 0.0, 'source_class': 0.0, 'waterpoint_type': 0.0, 'waterpoint_type_group': 0.0, 'status_group': 0.0}\n",
            "['scheme_name']\n"
          ]
        }
      ]
    },
    {
      "cell_type": "markdown",
      "metadata": {
        "id": "KmpQmfp4uEy4"
      },
      "source": [
        "Group, aggregate, create pivot table. "
      ]
    },
    {
      "cell_type": "code",
      "metadata": {
        "colab": {
          "base_uri": "https://localhost:8080/"
        },
        "id": "HUsdgoahiEXd",
        "outputId": "9d78b669-c274-44b8-e89c-5426290ebc25"
      },
      "source": [
        "data.groupBy('recorded_by').count().show()"
      ],
      "execution_count": null,
      "outputs": [
        {
          "output_type": "stream",
          "name": "stdout",
          "text": [
            "+--------------------+-----+\n",
            "|         recorded_by|count|\n",
            "+--------------------+-----+\n",
            "|GeoData Consultan...|59400|\n",
            "+--------------------+-----+\n",
            "\n"
          ]
        }
      ]
    },
    {
      "cell_type": "code",
      "metadata": {
        "colab": {
          "base_uri": "https://localhost:8080/"
        },
        "id": "A7zeDN1cx9oP",
        "outputId": "bd1559cf-78bf-4118-a7bf-e3b453f37ef1"
      },
      "source": [
        "data.groupBy('water_quality').count().orderBy('count',ascending=False).show()"
      ],
      "execution_count": null,
      "outputs": [
        {
          "output_type": "stream",
          "name": "stdout",
          "text": [
            "+------------------+-----+\n",
            "|     water_quality|count|\n",
            "+------------------+-----+\n",
            "|              soft|50818|\n",
            "|             salty| 4856|\n",
            "|           unknown| 1876|\n",
            "|             milky|  804|\n",
            "|          coloured|  490|\n",
            "|   salty abandoned|  339|\n",
            "|          fluoride|  200|\n",
            "|fluoride abandoned|   17|\n",
            "+------------------+-----+\n",
            "\n"
          ]
        }
      ]
    },
    {
      "cell_type": "code",
      "metadata": {
        "id": "rtu2cMrKyIFk"
      },
      "source": [
        "data = data.drop('recorded_by')"
      ],
      "execution_count": null,
      "outputs": []
    },
    {
      "cell_type": "code",
      "metadata": {
        "colab": {
          "base_uri": "https://localhost:8080/"
        },
        "id": "VOj2f4fxmdQ1",
        "outputId": "df826a6a-6284-428f-ed90-736d88e0775a"
      },
      "source": [
        "data.groupBy('status_group').pivot('region').sum('amount_tsh').show()"
      ],
      "execution_count": null,
      "outputs": [
        {
          "output_type": "stream",
          "name": "stdout",
          "text": [
            "+--------------------+---------+-------------+------+---------+------+--------+------------------+-------+--------+--------+-----+--------+-------+-------+---------+--------+---------+---------+--------+------+--------+\n",
            "|        status_group|   Arusha|Dar es Salaam|Dodoma|   Iringa|Kagera|  Kigoma|       Kilimanjaro|  Lindi| Manyara|    Mara|Mbeya|Morogoro| Mtwara| Mwanza|    Pwani|   Rukwa|   Ruvuma|Shinyanga| Singida|Tabora|   Tanga|\n",
            "+--------------------+---------+-------------+------+---------+------+--------+------------------+-------+--------+--------+-----+--------+-------+-------+---------+--------+---------+---------+--------+------+--------+\n",
            "|functional needs ...|  10280.0|          0.0|   0.0| 118400.0|   0.0|270770.0|          129248.0| 3625.0| 71315.0|   900.0|  0.0| 70005.0|36240.0|10000.0|    520.0|292980.0| 125650.0|   2200.0|  6505.0|   0.0|  4310.0|\n",
            "|          functional|1125485.0|     181175.0|   0.0|5515710.0|   0.0|530725.0|         746942.25|24560.0|312745.0| 96786.0|  0.0|587642.0|52710.0|33550.0|1567765.0|776025.0|1827983.0|  53000.0|863415.0|   0.0|600931.0|\n",
            "|      non functional|  73330.0|       9374.0|   0.0| 752295.0|   0.0|177510.0|248454.40000000002|15730.0| 31420.0|116700.0|  0.0|184120.0|14096.0| 4500.0| 160560.0|416830.0| 414669.0|   1000.0| 74510.2|   0.0|123237.0|\n",
            "+--------------------+---------+-------------+------+---------+------+--------+------------------+-------+--------+--------+-----+--------+-------+-------+---------+--------+---------+---------+--------+------+--------+\n",
            "\n"
          ]
        }
      ]
    },
    {
      "cell_type": "markdown",
      "metadata": {
        "id": "Sx78CSn9HJDx"
      },
      "source": [
        "Convert categories with low frequency to Others, impute missing values. "
      ]
    },
    {
      "cell_type": "code",
      "metadata": {
        "colab": {
          "base_uri": "https://localhost:8080/"
        },
        "id": "3uPpQBZ3CAVc",
        "outputId": "9f507934-6c48-4f98-dded-6bb37524b2b1"
      },
      "source": [
        "print(str_cols)"
      ],
      "execution_count": null,
      "outputs": [
        {
          "output_type": "stream",
          "name": "stdout",
          "text": [
            "['funder', 'installer', 'wpt_name', 'basin', 'subvillage', 'region', 'region_code', 'district_code', 'lga', 'ward', 'recorded_by', 'scheme_management', 'scheme_name', 'extraction_type', 'extraction_type_group', 'extraction_type_class', 'management', 'management_group', 'payment', 'payment_type', 'water_quality', 'quality_group', 'quantity', 'quantity_group', 'source', 'source_type', 'source_class', 'waterpoint_type', 'waterpoint_type_group', 'status_group']\n"
          ]
        }
      ]
    },
    {
      "cell_type": "code",
      "metadata": {
        "id": "eXilO8LqByNa",
        "colab": {
          "base_uri": "https://localhost:8080/"
        },
        "outputId": "b2d7723a-5a53-4ead-8b72-68868c3d07e0"
      },
      "source": [
        "for column in str_cols[:2]:\n",
        "  print(data.groupBy(column).count().orderBy('count', ascending=False).show())\n",
        "  values_cat = data.groupBy(column).count().collect()\n",
        "  lessthan = [x[0] for x in values_cat if x[1] < 1000]\n",
        "  data = data.withColumn(column, when(col(column).isin(lessthan), 'Others').otherwise(col(column)))\n",
        "  data.groupBy(column).count().orderBy('count',ascending=False).show()"
      ],
      "execution_count": null,
      "outputs": [
        {
          "output_type": "stream",
          "name": "stdout",
          "text": [
            "+--------------------+-----+\n",
            "|              funder|count|\n",
            "+--------------------+-----+\n",
            "|Government Of Tan...| 9084|\n",
            "|                null| 3635|\n",
            "|              Danida| 3114|\n",
            "|              Hesawa| 2202|\n",
            "|               Rwssp| 1374|\n",
            "|          World Bank| 1349|\n",
            "|                Kkkt| 1287|\n",
            "|        World Vision| 1246|\n",
            "|              Unicef| 1057|\n",
            "|               Tasaf|  877|\n",
            "|    District Council|  843|\n",
            "|                 Dhv|  829|\n",
            "|  Private Individual|  826|\n",
            "|                Dwsp|  811|\n",
            "|                   0|  777|\n",
            "|               Norad|  765|\n",
            "|     Germany Republi|  610|\n",
            "|                Tcrs|  602|\n",
            "|   Ministry Of Water|  590|\n",
            "|               Water|  583|\n",
            "+--------------------+-----+\n",
            "only showing top 20 rows\n",
            "\n",
            "None\n",
            "+--------------------+-----+\n",
            "|              funder|count|\n",
            "+--------------------+-----+\n",
            "|              Others|35052|\n",
            "|Government Of Tan...| 9084|\n",
            "|                null| 3635|\n",
            "|              Danida| 3114|\n",
            "|              Hesawa| 2202|\n",
            "|               Rwssp| 1374|\n",
            "|          World Bank| 1349|\n",
            "|                Kkkt| 1287|\n",
            "|        World Vision| 1246|\n",
            "|              Unicef| 1057|\n",
            "+--------------------+-----+\n",
            "\n",
            "+------------------+-----+\n",
            "|         installer|count|\n",
            "+------------------+-----+\n",
            "|               DWE|17402|\n",
            "|              null| 3655|\n",
            "|        Government| 1825|\n",
            "|               RWE| 1206|\n",
            "|             Commu| 1060|\n",
            "|            DANIDA| 1050|\n",
            "|              KKKT|  898|\n",
            "|            Hesawa|  840|\n",
            "|                 0|  777|\n",
            "|              TCRS|  707|\n",
            "|Central government|  622|\n",
            "|               CES|  610|\n",
            "|         Community|  553|\n",
            "|             DANID|  552|\n",
            "|  District Council|  551|\n",
            "|            HESAWA|  539|\n",
            "|               LGA|  408|\n",
            "|      World vision|  408|\n",
            "|            WEDECO|  397|\n",
            "|             TASAF|  396|\n",
            "+------------------+-----+\n",
            "only showing top 20 rows\n",
            "\n",
            "None\n",
            "+----------+-----+\n",
            "| installer|count|\n",
            "+----------+-----+\n",
            "|    Others|33202|\n",
            "|       DWE|17402|\n",
            "|      null| 3655|\n",
            "|Government| 1825|\n",
            "|       RWE| 1206|\n",
            "|     Commu| 1060|\n",
            "|    DANIDA| 1050|\n",
            "+----------+-----+\n",
            "\n"
          ]
        }
      ]
    }
  ]
}